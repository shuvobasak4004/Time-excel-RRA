{
 "cells": [
  {
   "cell_type": "code",
   "execution_count": 1,
   "id": "164ab2e8",
   "metadata": {},
   "outputs": [
    {
     "name": "stdout",
     "output_type": "stream",
     "text": [
      "Requirement already satisfied: pandas in c:\\users\\aic\\appdata\\local\\programs\\python\\python310\\lib\\site-packages (1.4.3)\n",
      "Collecting openpyxl\n",
      "  Downloading openpyxl-3.1.2-py2.py3-none-any.whl (249 kB)\n",
      "     ---------------------------------------- 0.0/250.0 kB ? eta -:--:--\n",
      "     ---- -------------------------------- 30.7/250.0 kB 660.6 kB/s eta 0:00:01\n",
      "     -------------- ------------------------ 92.2/250.0 kB 1.1 MB/s eta 0:00:01\n",
      "     ----------------------------- -------- 194.6/250.0 kB 1.5 MB/s eta 0:00:01\n",
      "     -------------------------------------- 250.0/250.0 kB 1.4 MB/s eta 0:00:00\n",
      "Requirement already satisfied: numpy>=1.21.0 in c:\\users\\aic\\appdata\\local\\programs\\python\\python310\\lib\\site-packages (from pandas) (1.22.3)\n",
      "Requirement already satisfied: pytz>=2020.1 in c:\\users\\aic\\appdata\\local\\programs\\python\\python310\\lib\\site-packages (from pandas) (2021.3)\n",
      "Requirement already satisfied: python-dateutil>=2.8.1 in c:\\users\\aic\\appdata\\local\\programs\\python\\python310\\lib\\site-packages (from pandas) (2.8.2)\n",
      "Collecting et-xmlfile\n",
      "  Downloading et_xmlfile-1.1.0-py3-none-any.whl (4.7 kB)\n",
      "Requirement already satisfied: six>=1.5 in c:\\users\\aic\\appdata\\local\\programs\\python\\python310\\lib\\site-packages (from python-dateutil>=2.8.1->pandas) (1.16.0)\n",
      "Installing collected packages: et-xmlfile, openpyxl\n",
      "Successfully installed et-xmlfile-1.1.0 openpyxl-3.1.2\n"
     ]
    },
    {
     "name": "stderr",
     "output_type": "stream",
     "text": [
      "WARNING: Ignoring invalid distribution -ensorflow-gpu (c:\\users\\aic\\appdata\\roaming\\python\\python310\\site-packages)\n",
      "WARNING: Ignoring invalid distribution -illow (c:\\users\\aic\\appdata\\local\\programs\\python\\python310\\lib\\site-packages)\n",
      "WARNING: Ignoring invalid distribution -ensorflow-gpu (c:\\users\\aic\\appdata\\roaming\\python\\python310\\site-packages)\n",
      "WARNING: Ignoring invalid distribution -illow (c:\\users\\aic\\appdata\\local\\programs\\python\\python310\\lib\\site-packages)\n",
      "WARNING: Ignoring invalid distribution -ensorflow-gpu (c:\\users\\aic\\appdata\\roaming\\python\\python310\\site-packages)\n",
      "WARNING: Ignoring invalid distribution -illow (c:\\users\\aic\\appdata\\local\\programs\\python\\python310\\lib\\site-packages)\n",
      "WARNING: Ignoring invalid distribution -illow (c:\\users\\aic\\appdata\\local\\programs\\python\\python310\\lib\\site-packages)\n",
      "WARNING: Ignoring invalid distribution -illow (c:\\users\\aic\\appdata\\local\\programs\\python\\python310\\lib\\site-packages)\n",
      "WARNING: Ignoring invalid distribution -ensorflow-gpu (c:\\users\\aic\\appdata\\roaming\\python\\python310\\site-packages)\n",
      "WARNING: Ignoring invalid distribution -illow (c:\\users\\aic\\appdata\\local\\programs\\python\\python310\\lib\\site-packages)\n",
      "WARNING: Ignoring invalid distribution -ensorflow-gpu (c:\\users\\aic\\appdata\\roaming\\python\\python310\\site-packages)\n",
      "WARNING: Ignoring invalid distribution -illow (c:\\users\\aic\\appdata\\local\\programs\\python\\python310\\lib\\site-packages)\n",
      "WARNING: Ignoring invalid distribution -ensorflow-gpu (c:\\users\\aic\\appdata\\roaming\\python\\python310\\site-packages)\n",
      "WARNING: Ignoring invalid distribution -illow (c:\\users\\aic\\appdata\\local\\programs\\python\\python310\\lib\\site-packages)\n",
      "\n",
      "[notice] A new release of pip is available: 23.0 -> 23.3.2\n",
      "[notice] To update, run: python.exe -m pip install --upgrade pip\n"
     ]
    }
   ],
   "source": [
    "!pip install pandas openpyxl\n"
   ]
  },
  {
   "cell_type": "code",
   "execution_count": 2,
   "id": "7c5ad8a3",
   "metadata": {},
   "outputs": [
    {
     "name": "stdout",
     "output_type": "stream",
     "text": [
      "Excel file 'dates_output.xlsx' created successfully.\n"
     ]
    }
   ],
   "source": [
    "import pandas as pd\n",
    "from datetime import datetime, timedelta\n",
    "\n",
    "# Set the start and end dates\n",
    "start_date = datetime(2023, 12, 20)\n",
    "end_date = datetime(2025, 12, 25)\n",
    "\n",
    "# Generate a list of dates from start_date to end_date\n",
    "date_list = [start_date + timedelta(days=x) for x in range((end_date - start_date).days + 1)]\n",
    "\n",
    "# Convert the date_list to a DataFrame\n",
    "df = pd.DataFrame(date_list, columns=['Date'])\n",
    "\n",
    "# Convert the 'Date' column to Excel date format\n",
    "df['Excel Format'] = df['Date'].apply(lambda x: x.toordinal() - datetime(1899, 12, 30).toordinal())\n",
    "\n",
    "# Save the DataFrame to an Excel file\n",
    "excel_file_path = 'dates_output.xlsx'\n",
    "df.to_excel(excel_file_path, index=False)\n",
    "\n",
    "print(f\"Excel file '{excel_file_path}' created successfully.\")\n"
   ]
  },
  {
   "cell_type": "code",
   "execution_count": 3,
   "id": "643abb97",
   "metadata": {},
   "outputs": [
    {
     "name": "stdout",
     "output_type": "stream",
     "text": [
      "Excel file 'numbers_output.xlsx' created successfully.\n"
     ]
    }
   ],
   "source": [
    "import pandas as pd\n",
    "\n",
    "# Create a DataFrame with a column of numbers from 735 to 0\n",
    "df = pd.DataFrame({'Numbers': range(735, -1, -1)})\n",
    "\n",
    "# Save the DataFrame to an Excel file\n",
    "excel_file_path = 'numbers_output.xlsx'\n",
    "df.to_excel(excel_file_path, index=False)\n",
    "\n",
    "print(f\"Excel file '{excel_file_path}' created successfully.\")\n"
   ]
  },
  {
   "cell_type": "code",
   "execution_count": 5,
   "id": "aecfcbb2",
   "metadata": {},
   "outputs": [
    {
     "name": "stdout",
     "output_type": "stream",
     "text": [
      "Excel file 'colored_numbers_output.xlsx' created successfully.\n"
     ]
    }
   ],
   "source": [
    "import pandas as pd\n",
    "from openpyxl import Workbook\n",
    "from openpyxl.styles import PatternFill\n",
    "\n",
    "# Create a DataFrame with a column of numbers from 736 to 0\n",
    "df = pd.DataFrame({'Numbers': range(736, -1, -1)})\n",
    "\n",
    "# Create a new Excel workbook and get the active sheet\n",
    "wb = Workbook()\n",
    "ws = wb.active\n",
    "\n",
    "# Define a color for each row\n",
    "for row_index, number in enumerate(df['Numbers'], start=1):\n",
    "    cell = ws.cell(row=row_index, column=1, value=number)\n",
    "    color = f'{hex(255 - row_index % 256)[2:]:>02}{hex(255 - row_index % 256)[2:]:>02}{hex(255 - row_index % 256)[2:]:>02}'\n",
    "    cell.fill = PatternFill(start_color=color, end_color=color, fill_type='solid')\n",
    "\n",
    "# Save the workbook to an Excel file\n",
    "excel_file_path = 'colored_numbers_output.xlsx'\n",
    "wb.save(excel_file_path)\n",
    "\n",
    "print(f\"Excel file '{excel_file_path}' created successfully.\")\n"
   ]
  },
  {
   "cell_type": "code",
   "execution_count": 6,
   "id": "02a8867a",
   "metadata": {},
   "outputs": [
    {
     "name": "stdout",
     "output_type": "stream",
     "text": [
      "Excel file 'colored_numbers_output.xlsx' created successfully.\n"
     ]
    }
   ],
   "source": [
    "import pandas as pd\n",
    "from openpyxl import Workbook\n",
    "from openpyxl.styles import PatternFill\n",
    "import matplotlib.pyplot as plt\n",
    "\n",
    "# Create a DataFrame with a column of numbers from 736 to 0\n",
    "df = pd.DataFrame({'Numbers': range(736, -1, -1)})\n",
    "\n",
    "# Create a new Excel workbook and get the active sheet\n",
    "wb = Workbook()\n",
    "ws = wb.active\n",
    "\n",
    "# Generate a color palette using matplotlib\n",
    "color_palette = plt.cm.plasma\n",
    "\n",
    "# Define a color for each row\n",
    "for row_index, number in enumerate(df['Numbers'], start=1):\n",
    "    cell = ws.cell(row=row_index, column=1, value=number)\n",
    "    color = color_palette(row_index / len(df['Numbers']))[:3]\n",
    "    hex_color = f'{int(color[0] * 255):02X}{int(color[1] * 255):02X}{int(color[2] * 255):02X}'\n",
    "    cell.fill = PatternFill(start_color=hex_color, end_color=hex_color, fill_type='solid')\n",
    "\n",
    "# Save the workbook to an Excel file\n",
    "excel_file_path = 'colored_numbers_output.xlsx'\n",
    "wb.save(excel_file_path)\n",
    "\n",
    "print(f\"Excel file '{excel_file_path}' created successfully.\")\n"
   ]
  },
  {
   "cell_type": "code",
   "execution_count": null,
   "id": "57df0000",
   "metadata": {},
   "outputs": [],
   "source": []
  }
 ],
 "metadata": {
  "kernelspec": {
   "display_name": "Python 3 (ipykernel)",
   "language": "python",
   "name": "python3"
  },
  "language_info": {
   "codemirror_mode": {
    "name": "ipython",
    "version": 3
   },
   "file_extension": ".py",
   "mimetype": "text/x-python",
   "name": "python",
   "nbconvert_exporter": "python",
   "pygments_lexer": "ipython3",
   "version": "3.10.2"
  }
 },
 "nbformat": 4,
 "nbformat_minor": 5
}
